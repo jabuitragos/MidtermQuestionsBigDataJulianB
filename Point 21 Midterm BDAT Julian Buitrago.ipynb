{
  "metadata": {
    "kernelspec": {
      "name": "python",
      "display_name": "Python (Pyodide)",
      "language": "python"
    },
    "language_info": {
      "codemirror_mode": {
        "name": "python",
        "version": 3
      },
      "file_extension": ".py",
      "mimetype": "text/x-python",
      "name": "python",
      "nbconvert_exporter": "python",
      "pygments_lexer": "ipython3",
      "version": "3.8"
    }
  },
  "nbformat_minor": 4,
  "nbformat": 4,
  "cells": [
    {
      "cell_type": "code",
      "source": "# We bring the math package\nimport math\n# We create the class adnd define it\nclass Point:\n    def __init__(self, x=0, y=0):\n        self.x = x\n        self.y = y\n#We create and define the segment class\nclass Segmento:\n    def __init__(self, p1,p2):\n        self.p1 = p1\n        self.p2 = p2\n# Calculating the lenght of our segment\n    def length(self):\n        return math.sqrt((self.p2.x - self.p1.x)**2 + (self.p2.y - self.p1.y)**2)\n# Calculating the slope of the segment\n    def slope(self):\n        try:\n            return (self.p2.y - self.p1.y) / (self.p2.x - self.p1.x)\n        except ZeroDivisionError:\n            return None \np1= Point(4,3)\np2= Point()\ns = Segmento(p1,p2)\n\nprint(\"The length is:\",s.length())\nprint(\"The Slope is:\", s.slope())\n        \n\n",
      "metadata": {
        "trusted": true
      },
      "outputs": [
        {
          "name": "stdout",
          "text": "The length is: 5.0\nThe Slope is: 0.75\n",
          "output_type": "stream"
        }
      ],
      "execution_count": 5
    },
    {
      "cell_type": "code",
      "source": "",
      "metadata": {
        "trusted": true
      },
      "outputs": [],
      "execution_count": null
    }
  ]
}
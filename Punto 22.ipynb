{
  "metadata": {
    "kernelspec": {
      "name": "python",
      "display_name": "Python (Pyodide)",
      "language": "python"
    },
    "language_info": {
      "codemirror_mode": {
        "name": "python",
        "version": 3
      },
      "file_extension": ".py",
      "mimetype": "text/x-python",
      "name": "python",
      "nbconvert_exporter": "python",
      "pygments_lexer": "ipython3",
      "version": "3.8"
    }
  },
  "nbformat_minor": 4,
  "nbformat": 4,
  "cells": [
    {
      "cell_type": "code",
      "source": "# Connecting to SQLite database\nimport sqlite3\n\n\nconexion = sqlite3.connect(\":memory:\")\ncursor = conexion.cursor()\n\n# Creating the table of the weather\ncursor.execute('''\nCREATE TABLE Weather (\n    id INTEGER PRIMARY KEY,\n    recordDate DATE,\n    temperature INTEGER\n);\n''')\n\n# Insert the sample data\nweather_data = [\n    (1, '2015-01-01', 10),\n    (2, '2015-01-02', 25),\n    (3, '2015-01-03', 20),\n    (4, '2015-01-04', 30),\n]\n\ncursor.executemany('INSERT INTO Weather (id, recordDate, temperature) VALUES (?, ?, ?)', weather_data)\nconexion.commit()\n\n# SQL Query to find days with higher temperature than the previous day\nquery = '''\nSELECT W1.id\nFROM Weather W1\nJOIN Weather W2\nON DATE(W1.recordDate) = DATE(W2.recordDate, '+1 day')\nWHERE W1.temperature > W2.temperature;\n'''\n\n# Execute the query and obtain the results\nresult = cursor.execute(query).fetchall()\n\n# Display the result but before we need to create a dataframe for obtainig the desire output\ndf = pd.DataFrame(result, columns=['id'])\nprint(df)\n\n# Finalize the database connection\nconexion.close()",
      "metadata": {
        "trusted": true
      },
      "outputs": [
        {
          "name": "stdout",
          "text": "   id\n0   2\n1   4\n",
          "output_type": "stream"
        }
      ],
      "execution_count": 12
    },
    {
      "cell_type": "code",
      "source": "",
      "metadata": {
        "trusted": true
      },
      "outputs": [],
      "execution_count": null
    },
    {
      "cell_type": "code",
      "source": "",
      "metadata": {
        "trusted": true
      },
      "outputs": [],
      "execution_count": null
    }
  ]
}
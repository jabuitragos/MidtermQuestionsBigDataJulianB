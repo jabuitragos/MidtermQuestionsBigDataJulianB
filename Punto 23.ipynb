{
  "metadata": {
    "kernelspec": {
      "name": "python",
      "display_name": "Python (Pyodide)",
      "language": "python"
    },
    "language_info": {
      "codemirror_mode": {
        "name": "python",
        "version": 3
      },
      "file_extension": ".py",
      "mimetype": "text/x-python",
      "name": "python",
      "nbconvert_exporter": "python",
      "pygments_lexer": "ipython3",
      "version": "3.8"
    }
  },
  "nbformat_minor": 4,
  "nbformat": 4,
  "cells": [
    {
      "cell_type": "code",
      "source": "def tough(sangria, n):\n    if n == 1:\n        # 1 star with indentation\n        print(' ' * sangria + '*')\n    else:\n        # Second case reduce the number of stars, print currents, and then reduce it again\n        tough(sangria, n - 1)  # Print the first part\n        print(' ' * sangria + '*' * n)  # Print the current line with indentation\n        tough(sangria, n - 1)  # Print the second part\n\n# Example usage:\nsangria = 2\nn = 4  #As required\ntough(sangria, n)",
      "metadata": {
        "trusted": true
      },
      "outputs": [
        {
          "name": "stdout",
          "text": "  *\n  **\n  *\n  ***\n  *\n  **\n  *\n  ****\n  *\n  **\n  *\n  ***\n  *\n  **\n  *\n",
          "output_type": "stream"
        }
      ],
      "execution_count": 12
    },
    {
      "cell_type": "code",
      "source": "",
      "metadata": {
        "trusted": true
      },
      "outputs": [],
      "execution_count": null
    }
  ]
}